{
 "cells": [
  {
   "cell_type": "code",
   "execution_count": 281,
   "id": "befbfd1d-8dad-43f0-8b17-7078c00ad757",
   "metadata": {},
   "outputs": [],
   "source": [
    "import requests\n",
    "from bs4 import BeautifulSoup"
   ]
  },
  {
   "cell_type": "code",
   "execution_count": 283,
   "id": "07cf6074-39a5-49d5-bcbc-1bb024479ebe",
   "metadata": {},
   "outputs": [],
   "source": [
    "url=\"https://en.wikipedia.org/wiki/List_of_largest_companies_in_the_United_States_by_revenue\""
   ]
  },
  {
   "cell_type": "code",
   "execution_count": 285,
   "id": "cbefdd28-3bd5-4177-b502-0841ac380a78",
   "metadata": {},
   "outputs": [
    {
     "name": "stdout",
     "output_type": "stream",
     "text": [
      "<Response [200]>\n"
     ]
    }
   ],
   "source": [
    "page=requests.get(url)\n",
    "print(page)"
   ]
  },
  {
   "cell_type": "code",
   "execution_count": 287,
   "id": "bfa0811a-252f-46a4-b4b0-7463ab822bd7",
   "metadata": {},
   "outputs": [],
   "source": [
    "soup=BeautifulSoup(page.text,\"html\")\n"
   ]
  },
  {
   "cell_type": "code",
   "execution_count": 288,
   "id": "4f68570e-6162-403a-bf4b-9816b67cb9e1",
   "metadata": {},
   "outputs": [],
   "source": [
    "table=soup.find_all('table')[1]"
   ]
  },
  {
   "cell_type": "code",
   "execution_count": 289,
   "id": "98a50ac7-96ff-4d34-8444-eccb8d8dad14",
   "metadata": {},
   "outputs": [
    {
     "name": "stdout",
     "output_type": "stream",
     "text": [
      "<table class=\"wikitable sortable\">\n",
      "<tbody><tr>\n",
      "<th>Rank\n",
      "</th>\n",
      "<th>Name\n",
      "</th>\n",
      "<th>Industry\n",
      "</th>\n",
      "<th>Revenue <br/>(USD billions)\n",
      "</th>\n",
      "<th>Employees\n",
      "</th>\n",
      "<th>Headquarters\n",
      "</th></tr>\n",
      "<tr>\n",
      "<td>1\n",
      "</td>\n",
      "<td><a href=\"/wiki/Cargill\" title=\"Cargill\">Cargill</a>\n",
      "</td>\n",
      "<td>Food industry\n",
      "</td>\n",
      "<td style=\"text-align:center;\">177\n",
      "</td>\n",
      "<td style=\"text-align:center;\">160,000\n",
      "</td>\n",
      "<td><a href=\"/wiki/Minnetonka,_Minnesota\" title=\"Minnetonka, Minnesota\">Minnetonka, Minnesota</a>\n",
      "</td></tr>\n",
      "<tr>\n",
      "<td>2\n",
      "</td>\n",
      "<td><a class=\"mw-redirect\" href=\"/wiki/Koch_Industries\" title=\"Koch Industries\">Koch Industries</a>\n",
      "</td>\n",
      "<td>Conglomerate\n",
      "</td>\n",
      "<td style=\"text-align:center;\">125\n",
      "</td>\n",
      "<td style=\"text-align:center;\">120,000\n",
      "</td>\n",
      "<td><a href=\"/wiki/Wichita,_Kansas\" title=\"Wichita, Kansas\">Wichita, Kansas</a>\n",
      "</td></tr>\n",
      "<tr>\n",
      "<td>3\n",
      "</td>\n",
      "<td><a class=\"mw-redirect\" href=\"/wiki/Publix_Super_Markets\" title=\"Publix Super Markets\">Publix Super Markets</a>\n",
      "</td>\n",
      "<td>Retail\n",
      "</td>\n",
      "<td style=\"text-align:center;\">54.5\n",
      "</td>\n",
      "<td style=\"text-align:center;\">250,000\n",
      "</td>\n",
      "<td>Lakeland, Florida\n",
      "</td></tr>\n",
      "<tr>\n",
      "<td>4\n",
      "</td>\n",
      "<td><a class=\"mw-redirect\" href=\"/wiki/Mars,_Incorporated\" title=\"Mars, Incorporated\">Mars, Incorporated</a>\n",
      "</td>\n",
      "<td>Food industry\n",
      "</td>\n",
      "<td style=\"text-align:center;\">47\n",
      "</td>\n",
      "<td style=\"text-align:center;\">140,000\n",
      "</td>\n",
      "<td><a href=\"/wiki/McLean,_Virginia\" title=\"McLean, Virginia\">McLean, Virginia</a>\n",
      "</td></tr>\n",
      "<tr>\n",
      "<td>5\n",
      "</td>\n",
      "<td><a href=\"/wiki/H-E-B\" title=\"H-E-B\">H-E-B</a>\n",
      "</td>\n",
      "<td>Retail\n",
      "</td>\n",
      "<td style=\"text-align:center;\">43.6\n",
      "</td>\n",
      "<td style=\"text-align:center;\">145,000\n",
      "</td>\n",
      "<td><a class=\"mw-redirect\" href=\"/wiki/San_Antonio,_Texas\" title=\"San Antonio, Texas\">San Antonio, Texas</a>\n",
      "</td></tr>\n",
      "<tr>\n",
      "<td>6\n",
      "</td>\n",
      "<td><a href=\"/wiki/Reyes_Holdings\" title=\"Reyes Holdings\">Reyes Holdings</a>\n",
      "</td>\n",
      "<td><a href=\"/wiki/Wholesaling\" title=\"Wholesaling\">Wholesaling</a>\n",
      "</td>\n",
      "<td style=\"text-align:center;\">40\n",
      "</td>\n",
      "<td style=\"text-align:center;\">36,000\n",
      "</td>\n",
      "<td><a href=\"/wiki/Rosemont,_Illinois\" title=\"Rosemont, Illinois\">Rosemont, Illinois</a>\n",
      "</td></tr>\n",
      "<tr>\n",
      "<td>7\n",
      "</td>\n",
      "<td><a href=\"/wiki/Enterprise_Holdings\" title=\"Enterprise Holdings\">Enterprise Holdings</a>\n",
      "</td>\n",
      "<td><a href=\"/wiki/Car_rental\" title=\"Car rental\">Car rental</a>\n",
      "</td>\n",
      "<td style=\"text-align:center;\">35\n",
      "</td>\n",
      "<td style=\"text-align:center;\">90,000\n",
      "</td>\n",
      "<td><a href=\"/wiki/Clayton,_Missouri\" title=\"Clayton, Missouri\">Clayton, Missouri</a>\n",
      "</td></tr>\n",
      "<tr>\n",
      "<td>8\n",
      "</td>\n",
      "<td><a href=\"/wiki/C%26S_Wholesale_Grocers\" title=\"C&amp;S Wholesale Grocers\">C&amp;S Wholesale Grocers</a>\n",
      "</td>\n",
      "<td>Wholesaling\n",
      "</td>\n",
      "<td style=\"text-align:center;\">34.7\n",
      "</td>\n",
      "<td style=\"text-align:center;\">15,000\n",
      "</td>\n",
      "<td><a href=\"/wiki/Keene,_New_Hampshire\" title=\"Keene, New Hampshire\">Keene, New Hampshire</a>\n",
      "</td></tr>\n",
      "<tr>\n",
      "<td>9\n",
      "</td>\n",
      "<td><a href=\"/wiki/Love%27s\" title=\"Love's\">Love's</a>\n",
      "</td>\n",
      "<td>Petroleum industry and Retail\n",
      "</td>\n",
      "<td style=\"text-align:center;\">26.5\n",
      "</td>\n",
      "<td style=\"text-align:center;\">40,000\n",
      "</td>\n",
      "<td><a class=\"mw-redirect\" href=\"/wiki/Oklahoma_City,_Oklahoma\" title=\"Oklahoma City, Oklahoma\">Oklahoma City, Oklahoma</a>\n",
      "</td></tr>\n",
      "<tr>\n",
      "<td>10\n",
      "</td>\n",
      "<td><a href=\"/wiki/Southern_Glazer%27s_Wine_and_Spirits\" title=\"Southern Glazer's Wine and Spirits\">Southern Glazer's Wine and Spirits</a>\n",
      "</td>\n",
      "<td>Food industry\n",
      "</td>\n",
      "<td style=\"text-align:center;\">26.0\n",
      "</td>\n",
      "<td style=\"text-align:center;\">24,000\n",
      "</td>\n",
      "<td><a href=\"/wiki/Miramar,_Florida\" title=\"Miramar, Florida\">Miramar, Florida</a>\n",
      "</td></tr></tbody></table>\n"
     ]
    }
   ],
   "source": [
    "print(table)"
   ]
  },
  {
   "cell_type": "code",
   "execution_count": 290,
   "id": "2847cf4d-7b55-4cac-b5b2-ebfd57c508e2",
   "metadata": {},
   "outputs": [],
   "source": [
    "word_titles=table.find_all('th')"
   ]
  },
  {
   "cell_type": "code",
   "execution_count": 291,
   "id": "f019df5e-2b43-4ae1-94df-90f45af2d330",
   "metadata": {},
   "outputs": [
    {
     "name": "stdout",
     "output_type": "stream",
     "text": [
      "[<th>Rank\n",
      "</th>, <th>Name\n",
      "</th>, <th>Industry\n",
      "</th>, <th>Revenue <br/>(USD billions)\n",
      "</th>, <th>Employees\n",
      "</th>, <th>Headquarters\n",
      "</th>]\n"
     ]
    }
   ],
   "source": [
    "print(word_titles)"
   ]
  },
  {
   "cell_type": "code",
   "execution_count": 292,
   "id": "f49f745a-2869-43cf-af9e-48c9931dbd9a",
   "metadata": {},
   "outputs": [
    {
     "name": "stdout",
     "output_type": "stream",
     "text": [
      "['Rank', 'Name', 'Industry', 'Revenue (USD billions)', 'Employees', 'Headquarters']\n"
     ]
    }
   ],
   "source": [
    "word_table_title=[title.text.strip(\"\\n\") for title in word_titles]\n",
    "print(word_table_title)\n"
   ]
  },
  {
   "cell_type": "code",
   "execution_count": 293,
   "id": "ee1a1ecd-8ea4-4fef-8cb3-7608b7c5827b",
   "metadata": {},
   "outputs": [],
   "source": [
    "import pandas as pd"
   ]
  },
  {
   "cell_type": "code",
   "execution_count": 294,
   "id": "2acabb47-ec06-4acd-a342-f8df03e6fcac",
   "metadata": {},
   "outputs": [],
   "source": [
    "df=pd.DataFrame(columns=word_table_title)"
   ]
  },
  {
   "cell_type": "code",
   "execution_count": 295,
   "id": "c62338ef-0d5a-4806-a3da-d8eb2e73e31c",
   "metadata": {},
   "outputs": [],
   "source": [
    "column_data=table.find_all('tr')"
   ]
  },
  {
   "cell_type": "code",
   "execution_count": 296,
   "id": "427b77a4-764f-4c8f-9f1e-1e70470900f4",
   "metadata": {},
   "outputs": [],
   "source": [
    "for row in column_data[1:]:\n",
    "    row_data = row.find_all('td')  \n",
    "    individual_row_data = [data.text.strip() for data in row_data]\n",
    "    \n",
    "\n",
    "    length=len(df)\n",
    "    df.loc[length]= individual_row_data"
   ]
  },
  {
   "cell_type": "code",
   "execution_count": 297,
   "id": "ebf1deda-0e37-4e26-95bd-f12c7e48d623",
   "metadata": {},
   "outputs": [
    {
     "data": {
      "text/html": [
       "<div>\n",
       "<style scoped>\n",
       "    .dataframe tbody tr th:only-of-type {\n",
       "        vertical-align: middle;\n",
       "    }\n",
       "\n",
       "    .dataframe tbody tr th {\n",
       "        vertical-align: top;\n",
       "    }\n",
       "\n",
       "    .dataframe thead th {\n",
       "        text-align: right;\n",
       "    }\n",
       "</style>\n",
       "<table border=\"1\" class=\"dataframe\">\n",
       "  <thead>\n",
       "    <tr style=\"text-align: right;\">\n",
       "      <th></th>\n",
       "      <th>Rank</th>\n",
       "      <th>Name</th>\n",
       "      <th>Industry</th>\n",
       "      <th>Revenue (USD billions)</th>\n",
       "      <th>Employees</th>\n",
       "      <th>Headquarters</th>\n",
       "    </tr>\n",
       "  </thead>\n",
       "  <tbody>\n",
       "    <tr>\n",
       "      <th>0</th>\n",
       "      <td>1</td>\n",
       "      <td>Cargill</td>\n",
       "      <td>Food industry</td>\n",
       "      <td>177</td>\n",
       "      <td>160,000</td>\n",
       "      <td>Minnetonka, Minnesota</td>\n",
       "    </tr>\n",
       "    <tr>\n",
       "      <th>1</th>\n",
       "      <td>2</td>\n",
       "      <td>Koch Industries</td>\n",
       "      <td>Conglomerate</td>\n",
       "      <td>125</td>\n",
       "      <td>120,000</td>\n",
       "      <td>Wichita, Kansas</td>\n",
       "    </tr>\n",
       "    <tr>\n",
       "      <th>2</th>\n",
       "      <td>3</td>\n",
       "      <td>Publix Super Markets</td>\n",
       "      <td>Retail</td>\n",
       "      <td>54.5</td>\n",
       "      <td>250,000</td>\n",
       "      <td>Lakeland, Florida</td>\n",
       "    </tr>\n",
       "    <tr>\n",
       "      <th>3</th>\n",
       "      <td>4</td>\n",
       "      <td>Mars, Incorporated</td>\n",
       "      <td>Food industry</td>\n",
       "      <td>47</td>\n",
       "      <td>140,000</td>\n",
       "      <td>McLean, Virginia</td>\n",
       "    </tr>\n",
       "    <tr>\n",
       "      <th>4</th>\n",
       "      <td>5</td>\n",
       "      <td>H-E-B</td>\n",
       "      <td>Retail</td>\n",
       "      <td>43.6</td>\n",
       "      <td>145,000</td>\n",
       "      <td>San Antonio, Texas</td>\n",
       "    </tr>\n",
       "    <tr>\n",
       "      <th>5</th>\n",
       "      <td>6</td>\n",
       "      <td>Reyes Holdings</td>\n",
       "      <td>Wholesaling</td>\n",
       "      <td>40</td>\n",
       "      <td>36,000</td>\n",
       "      <td>Rosemont, Illinois</td>\n",
       "    </tr>\n",
       "    <tr>\n",
       "      <th>6</th>\n",
       "      <td>7</td>\n",
       "      <td>Enterprise Holdings</td>\n",
       "      <td>Car rental</td>\n",
       "      <td>35</td>\n",
       "      <td>90,000</td>\n",
       "      <td>Clayton, Missouri</td>\n",
       "    </tr>\n",
       "    <tr>\n",
       "      <th>7</th>\n",
       "      <td>8</td>\n",
       "      <td>C&amp;S Wholesale Grocers</td>\n",
       "      <td>Wholesaling</td>\n",
       "      <td>34.7</td>\n",
       "      <td>15,000</td>\n",
       "      <td>Keene, New Hampshire</td>\n",
       "    </tr>\n",
       "    <tr>\n",
       "      <th>8</th>\n",
       "      <td>9</td>\n",
       "      <td>Love's</td>\n",
       "      <td>Petroleum industry and Retail</td>\n",
       "      <td>26.5</td>\n",
       "      <td>40,000</td>\n",
       "      <td>Oklahoma City, Oklahoma</td>\n",
       "    </tr>\n",
       "    <tr>\n",
       "      <th>9</th>\n",
       "      <td>10</td>\n",
       "      <td>Southern Glazer's Wine and Spirits</td>\n",
       "      <td>Food industry</td>\n",
       "      <td>26.0</td>\n",
       "      <td>24,000</td>\n",
       "      <td>Miramar, Florida</td>\n",
       "    </tr>\n",
       "  </tbody>\n",
       "</table>\n",
       "</div>"
      ],
      "text/plain": [
       "  Rank                                Name                       Industry  \\\n",
       "0    1                             Cargill                  Food industry   \n",
       "1    2                     Koch Industries                   Conglomerate   \n",
       "2    3                Publix Super Markets                         Retail   \n",
       "3    4                  Mars, Incorporated                  Food industry   \n",
       "4    5                               H-E-B                         Retail   \n",
       "5    6                      Reyes Holdings                    Wholesaling   \n",
       "6    7                 Enterprise Holdings                     Car rental   \n",
       "7    8               C&S Wholesale Grocers                    Wholesaling   \n",
       "8    9                              Love's  Petroleum industry and Retail   \n",
       "9   10  Southern Glazer's Wine and Spirits                  Food industry   \n",
       "\n",
       "  Revenue (USD billions) Employees             Headquarters  \n",
       "0                    177   160,000    Minnetonka, Minnesota  \n",
       "1                    125   120,000          Wichita, Kansas  \n",
       "2                   54.5   250,000        Lakeland, Florida  \n",
       "3                     47   140,000         McLean, Virginia  \n",
       "4                   43.6   145,000       San Antonio, Texas  \n",
       "5                     40    36,000       Rosemont, Illinois  \n",
       "6                     35    90,000        Clayton, Missouri  \n",
       "7                   34.7    15,000     Keene, New Hampshire  \n",
       "8                   26.5    40,000  Oklahoma City, Oklahoma  \n",
       "9                   26.0    24,000         Miramar, Florida  "
      ]
     },
     "execution_count": 297,
     "metadata": {},
     "output_type": "execute_result"
    }
   ],
   "source": [
    "df"
   ]
  },
  {
   "cell_type": "code",
   "execution_count": 298,
   "id": "1f1e7c99-a1a2-4662-ba2e-90c873b89619",
   "metadata": {},
   "outputs": [],
   "source": [
    "df.to_csv(r'E:\\kkonnect.io\\Companies.csv',index=False)"
   ]
  },
  {
   "cell_type": "markdown",
   "id": "13abc84f-5de7-4b35-946f-34f56b6be562",
   "metadata": {},
   "source": [
    "#Data Exploration"
   ]
  },
  {
   "cell_type": "code",
   "execution_count": 300,
   "id": "b58de06e-6201-4f29-b500-14b856317bff",
   "metadata": {},
   "outputs": [
    {
     "data": {
      "text/plain": [
       "(10, 6)"
      ]
     },
     "execution_count": 300,
     "metadata": {},
     "output_type": "execute_result"
    }
   ],
   "source": [
    "df.shape"
   ]
  },
  {
   "cell_type": "code",
   "execution_count": 301,
   "id": "b88da17d-3991-4ea9-9446-f13dc7dae082",
   "metadata": {},
   "outputs": [
    {
     "data": {
      "text/plain": [
       "Rank                      object\n",
       "Name                      object\n",
       "Industry                  object\n",
       "Revenue (USD billions)    object\n",
       "Employees                 object\n",
       "Headquarters              object\n",
       "dtype: object"
      ]
     },
     "execution_count": 301,
     "metadata": {},
     "output_type": "execute_result"
    }
   ],
   "source": [
    "df.dtypes"
   ]
  },
  {
   "cell_type": "code",
   "execution_count": 302,
   "id": "75da7636-db5b-4c1f-8083-d6897d3f1780",
   "metadata": {},
   "outputs": [
    {
     "data": {
      "text/plain": [
       "Rank                      object\n",
       "Name                      object\n",
       "Industry                  object\n",
       "Revenue (USD billions)    object\n",
       "Employees                 object\n",
       "Headquarters              object\n",
       "dtype: object"
      ]
     },
     "execution_count": 302,
     "metadata": {},
     "output_type": "execute_result"
    }
   ],
   "source": [
    "df.dtypes"
   ]
  },
  {
   "cell_type": "code",
   "execution_count": 303,
   "id": "e6df61d3-db7b-4ece-a56a-ab36e2dbff7f",
   "metadata": {},
   "outputs": [],
   "source": [
    "df['Rank'] = df['Rank'].astype(float)"
   ]
  },
  {
   "cell_type": "code",
   "execution_count": 304,
   "id": "258baf19-4f57-45a5-aace-1ed389fe88af",
   "metadata": {},
   "outputs": [],
   "source": [
    "df['Employees'] = df['Employees'].str.replace(',', '').astype(float)"
   ]
  },
  {
   "cell_type": "code",
   "execution_count": 305,
   "id": "0335b557-1e6c-4e15-ba3f-ccf2f74a15d6",
   "metadata": {},
   "outputs": [],
   "source": [
    "df['Revenue (USD billions)']=df['Revenue (USD billions)'].astype(float)"
   ]
  },
  {
   "cell_type": "code",
   "execution_count": 306,
   "id": "49d5a631-d52f-4ae1-b6ec-3c916bc135e6",
   "metadata": {},
   "outputs": [
    {
     "name": "stdout",
     "output_type": "stream",
     "text": [
      "\n",
      "Data Types after cleaning:\n",
      " Rank                      float64\n",
      "Name                       object\n",
      "Industry                   object\n",
      "Revenue (USD billions)    float64\n",
      "Employees                 float64\n",
      "Headquarters               object\n",
      "dtype: object\n"
     ]
    }
   ],
   "source": [
    "print(\"\\nData Types after cleaning:\\n\", df.dtypes)"
   ]
  },
  {
   "cell_type": "code",
   "execution_count": 307,
   "id": "1dd7af25-8db3-4b99-8165-e8d609a33e07",
   "metadata": {},
   "outputs": [
    {
     "data": {
      "text/html": [
       "<div>\n",
       "<style scoped>\n",
       "    .dataframe tbody tr th:only-of-type {\n",
       "        vertical-align: middle;\n",
       "    }\n",
       "\n",
       "    .dataframe tbody tr th {\n",
       "        vertical-align: top;\n",
       "    }\n",
       "\n",
       "    .dataframe thead th {\n",
       "        text-align: right;\n",
       "    }\n",
       "</style>\n",
       "<table border=\"1\" class=\"dataframe\">\n",
       "  <thead>\n",
       "    <tr style=\"text-align: right;\">\n",
       "      <th></th>\n",
       "      <th>Rank</th>\n",
       "      <th>Revenue (USD billions)</th>\n",
       "      <th>Employees</th>\n",
       "    </tr>\n",
       "  </thead>\n",
       "  <tbody>\n",
       "    <tr>\n",
       "      <th>count</th>\n",
       "      <td>10.00000</td>\n",
       "      <td>10.000000</td>\n",
       "      <td>10.000000</td>\n",
       "    </tr>\n",
       "    <tr>\n",
       "      <th>mean</th>\n",
       "      <td>5.50000</td>\n",
       "      <td>60.930000</td>\n",
       "      <td>102000.000000</td>\n",
       "    </tr>\n",
       "    <tr>\n",
       "      <th>std</th>\n",
       "      <td>3.02765</td>\n",
       "      <td>49.796141</td>\n",
       "      <td>75190.129376</td>\n",
       "    </tr>\n",
       "    <tr>\n",
       "      <th>min</th>\n",
       "      <td>1.00000</td>\n",
       "      <td>26.000000</td>\n",
       "      <td>15000.000000</td>\n",
       "    </tr>\n",
       "    <tr>\n",
       "      <th>25%</th>\n",
       "      <td>3.25000</td>\n",
       "      <td>34.775000</td>\n",
       "      <td>37000.000000</td>\n",
       "    </tr>\n",
       "    <tr>\n",
       "      <th>50%</th>\n",
       "      <td>5.50000</td>\n",
       "      <td>41.800000</td>\n",
       "      <td>105000.000000</td>\n",
       "    </tr>\n",
       "    <tr>\n",
       "      <th>75%</th>\n",
       "      <td>7.75000</td>\n",
       "      <td>52.625000</td>\n",
       "      <td>143750.000000</td>\n",
       "    </tr>\n",
       "    <tr>\n",
       "      <th>max</th>\n",
       "      <td>10.00000</td>\n",
       "      <td>177.000000</td>\n",
       "      <td>250000.000000</td>\n",
       "    </tr>\n",
       "  </tbody>\n",
       "</table>\n",
       "</div>"
      ],
      "text/plain": [
       "           Rank  Revenue (USD billions)      Employees\n",
       "count  10.00000               10.000000      10.000000\n",
       "mean    5.50000               60.930000  102000.000000\n",
       "std     3.02765               49.796141   75190.129376\n",
       "min     1.00000               26.000000   15000.000000\n",
       "25%     3.25000               34.775000   37000.000000\n",
       "50%     5.50000               41.800000  105000.000000\n",
       "75%     7.75000               52.625000  143750.000000\n",
       "max    10.00000              177.000000  250000.000000"
      ]
     },
     "execution_count": 307,
     "metadata": {},
     "output_type": "execute_result"
    }
   ],
   "source": [
    "df.describe(include='number')"
   ]
  },
  {
   "cell_type": "code",
   "execution_count": 308,
   "id": "39da8b38-3352-407a-aeaa-b496de6d25f6",
   "metadata": {},
   "outputs": [
    {
     "data": {
      "text/plain": [
       "Rank                      0\n",
       "Name                      0\n",
       "Industry                  0\n",
       "Revenue (USD billions)    0\n",
       "Employees                 0\n",
       "Headquarters              0\n",
       "dtype: int64"
      ]
     },
     "execution_count": 308,
     "metadata": {},
     "output_type": "execute_result"
    }
   ],
   "source": [
    "df.isnull().sum()"
   ]
  },
  {
   "cell_type": "code",
   "execution_count": 309,
   "id": "cf0f0449-96ce-484b-ad4e-7188e7810628",
   "metadata": {},
   "outputs": [
    {
     "name": "stdout",
     "output_type": "stream",
     "text": [
      "\n",
      "Missing Values after cleaning:\n",
      " Rank                      0\n",
      "Name                      0\n",
      "Industry                  0\n",
      "Revenue (USD billions)    0\n",
      "Employees                 0\n",
      "Headquarters              0\n",
      "dtype: int64\n"
     ]
    }
   ],
   "source": [
    "\n",
    "print(\"\\nMissing Values after cleaning:\\n\", df.isnull().sum())"
   ]
  },
  {
   "cell_type": "code",
   "execution_count": 310,
   "id": "cf6862c6-7b20-48fb-a808-7104ccacb0ae",
   "metadata": {},
   "outputs": [
    {
     "name": "stdout",
     "output_type": "stream",
     "text": [
      "\n",
      "🔹 Industry Counts:\n",
      "Industry\n",
      "Food industry                    3\n",
      "Retail                           2\n",
      "Wholesaling                      2\n",
      "Conglomerate                     1\n",
      "Car rental                       1\n",
      "Petroleum industry and Retail    1\n",
      "Name: count, dtype: int64\n"
     ]
    }
   ],
   "source": [
    "# Unique industries\n",
    "print(\"\\n🔹 Industry Counts:\")\n",
    "print(df['Industry'].value_counts())"
   ]
  },
  {
   "cell_type": "code",
   "execution_count": 311,
   "id": "34878a0c-717c-4b3c-a394-780cbb089d9a",
   "metadata": {},
   "outputs": [],
   "source": [
    "import matplotlib.pyplot as plt\n",
    "import seaborn as sns"
   ]
  },
  {
   "cell_type": "code",
   "execution_count": 312,
   "id": "058c3e64-a77a-45b4-a3c9-b8c6dfcb138f",
   "metadata": {},
   "outputs": [
    {
     "name": "stderr",
     "output_type": "stream",
     "text": [
      "C:\\Users\\payaswini\\AppData\\Local\\Temp\\ipykernel_1036\\320422901.py:3: FutureWarning: \n",
      "\n",
      "Passing `palette` without assigning `hue` is deprecated and will be removed in v0.14.0. Assign the `y` variable to `hue` and set `legend=False` for the same effect.\n",
      "\n",
      "  sns.barplot(x='Revenue (USD billions)', y='Name', data=df.sort_values(by='Revenue (USD billions)', ascending=False), palette='Blues_d')\n"
     ]
    },
    {
     "data": {
      "image/png": "[encoded data removed]",
      "text/plain": [
       "<Figure size 1000x600 with 1 Axes>"
      ]
     },
     "metadata": {},
     "output_type": "display_data"
    }
   ],
   "source": [
    "# Plot: Bar chart of Revenue\n",
    "plt.figure(figsize=(10,6))\n",
    "sns.barplot(x='Revenue (USD billions)', y='Name', data=df.sort_values(by='Revenue (USD billions)', ascending=False), palette='Blues_d')\n",
    "plt.title(\"Top Companies by Revenue\")\n",
    "plt.xlabel(\"Revenue (USD billions)\")\n",
    "plt.ylabel(\"Company Name\")\n",
    "plt.tight_layout()\n",
    "plt.show()\n"
   ]
  },
  {
   "cell_type": "code",
   "execution_count": 313,
   "id": "7d809767-74b6-4e10-86d6-d90da8ab1dbd",
   "metadata": {},
   "outputs": [
    {
     "data": {
      "image/png": "[encoded data removed]",
      "text/plain": [
       "<Figure size 700x700 with 1 Axes>"
      ]
     },
     "metadata": {},
     "output_type": "display_data"
    }
   ],
   "source": [
    "# Plot: Pie chart of Industry distribution\n",
    "plt.figure(figsize=(7,7))\n",
    "df['Industry'].value_counts().plot.pie(autopct='%1.1f%%', startangle=140, colors=sns.color_palette('pastel'))\n",
    "plt.title(\"Industry Distribution\")\n",
    "plt.ylabel('')\n",
    "plt.show()\n"
   ]
  },
  {
   "cell_type": "code",
   "execution_count": 314,
   "id": "f4791f1e-c749-4c98-a9e8-1089a97eefcc",
   "metadata": {},
   "outputs": [
    {
     "data": {
      "image/png": "[encoded data removed]",
      "text/plain": [
       "<Figure size 1000x600 with 1 Axes>"
      ]
     },
     "metadata": {},
     "output_type": "display_data"
    }
   ],
   "source": [
    "# Plot: Scatter of Revenue vs Employees\n",
    "plt.figure(figsize=(10,6))\n",
    "sns.scatterplot(x='Employees', y='Revenue (USD billions)', hue='Industry', data=df, palette='tab10', s=100)\n",
    "plt.title(\"Revenue vs Employees\")\n",
    "plt.xlabel(\"Number of Employees\")\n",
    "plt.ylabel(\"Revenue (USD billions)\")\n",
    "plt.grid(True)\n",
    "plt.tight_layout()\n",
    "plt.show()"
   ]
  },
  {
   "cell_type": "code",
   "execution_count": null,
   "id": "3e0073b3-8173-4d68-818c-1e9031fc074b",
   "metadata": {},
   "outputs": [],
   "source": []
  },
  {
   "cell_type": "code",
   "execution_count": null,
   "id": "02010e9f-a9b5-4a5f-ba58-07a201c89d00",
   "metadata": {},
   "outputs": [],
   "source": []
  },
  {
   "cell_type": "code",
   "execution_count": null,
   "id": "9b6cd9f9-ad1c-47fc-a6ab-d447aa4ebe89",
   "metadata": {},
   "outputs": [],
   "source": []
  },
  {
   "cell_type": "code",
   "execution_count": null,
   "id": "89952dd2-9205-423a-a6fd-92f22d3f733e",
   "metadata": {},
   "outputs": [],
   "source": []
  },
  {
   "cell_type": "code",
   "execution_count": null,
   "id": "d68292fe-1f7d-452d-9b46-b8cffc253e04",
   "metadata": {},
   "outputs": [],
   "source": []
  },
  {
   "cell_type": "code",
   "execution_count": null,
   "id": "64d58a74-9b5b-432b-8efe-3b425be491ea",
   "metadata": {},
   "outputs": [],
   "source": []
  },
  {
   "cell_type": "code",
   "execution_count": null,
   "id": "f4565882-12d0-49a1-bff8-aac0267e6664",
   "metadata": {},
   "outputs": [],
   "source": []
  },
  {
   "cell_type": "code",
   "execution_count": null,
   "id": "125b46e8-c264-4472-a6cd-76d641a34d49",
   "metadata": {},
   "outputs": [],
   "source": []
  },
  {
   "cell_type": "code",
   "execution_count": null,
   "id": "8e5ffec7-9b54-4aab-95e3-08f4507ee4f6",
   "metadata": {},
   "outputs": [],
   "source": []
  }
 ],
 "metadata": {
  "kernelspec": {
   "display_name": "Python 3 (ipykernel)",
   "language": "python",
   "name": "python3"
  },
  "language_info": {
   "codemirror_mode": {
    "name": "ipython",
    "version": 3
   },
   "file_extension": ".py",
   "mimetype": "text/x-python",
   "name": "python",
   "nbconvert_exporter": "python",
   "pygments_lexer": "ipython3",
   "version": "3.12.7"
  }
 },
 "nbformat": 4,
 "nbformat_minor": 5
}
